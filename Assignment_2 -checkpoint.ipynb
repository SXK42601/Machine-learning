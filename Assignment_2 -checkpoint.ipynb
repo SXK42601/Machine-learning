{
 "cells": [
  {
   "cell_type": "code",
   "execution_count": 37,
   "id": "c37cc1fb",
   "metadata": {},
   "outputs": [
    {
     "name": "stdout",
     "output_type": "stream",
     "text": [
      "* \r\n",
      "* * \r\n",
      "* * * \r\n",
      "* * * * \r\n",
      "* * * * * \r\n",
      "* * * * \r\n",
      "* * * \r\n",
      "* * \r\n",
      "* \r\n",
      "\r\n"
     ]
    }
   ],
   "source": [
    "S= 5\n",
    "for i in range(0, S):\n",
    "    for j in range(0, i+1):\n",
    "        print (\"*\", end = ' ')\n",
    "    print (\"\\r\") \n",
    "\n",
    "for i in range(S, 0, -1):\n",
    "    for j in range(0, i-1):\n",
    "        print (\"*\", end = ' ')\n",
    "    print (\"\\r\")"
   ]
  },
  {
   "cell_type": "code",
   "execution_count": 38,
   "id": "2b775139",
   "metadata": {},
   "outputs": [
    {
     "name": "stdout",
     "output_type": "stream",
     "text": [
      "20 40 60 80 100 "
     ]
    }
   ],
   "source": [
    "my_list=[10,20,30,40,50,60,70,80,90,100]\n",
    "for m in my_list[1::2]:\n",
    "    print(m,end=\" \")"
   ]
  },
  {
   "cell_type": "code",
   "execution_count": 16,
   "id": "0f3f4e92",
   "metadata": {},
   "outputs": [
    {
     "name": "stdout",
     "output_type": "stream",
     "text": [
      "[23, 'Python', 23.98]\n",
      "[<class 'int'>, <class 'str'>, <class 'float'>]\n"
     ]
    }
   ],
   "source": [
    "x=[23,'Python',23.98]\n",
    "y=[]\n",
    "for i in range(len(x)):\n",
    "    y.append(type(x[i]))\n",
    "print(x)\n",
    "print(y)"
   ]
  },
  {
   "cell_type": "code",
   "execution_count": 40,
   "id": "63176a0e",
   "metadata": {},
   "outputs": [
    {
     "name": "stdout",
     "output_type": "stream",
     "text": [
      "unique_list: [1, 2, 3, 4, 5]\n"
     ]
    }
   ],
   "source": [
    "def unique_list(a):\n",
    "    b=[]\n",
    "    for c in a:\n",
    "         if c not in b:\n",
    "            b.append(c)\n",
    "    return b\n",
    "print(\"unique_list:\", unique_list([1,2,3,3,3,3,4,5]))"
   ]
  },
  {
   "cell_type": "code",
   "execution_count": 34,
   "id": "82049ccc",
   "metadata": {},
   "outputs": [
    {
     "name": "stdout",
     "output_type": "stream",
     "text": [
      "Input String: The quick Brow Fox\n",
      "No. of UPPER_CASE characters: 3\n",
      "No. of LOWER_CASE characters: 12\n"
     ]
    }
   ],
   "source": [
    "def string (a):\n",
    "    s={\"UPPER_CASE\":0, \"LOWER_CASE\":0}\n",
    "    for i in a:\n",
    "        if i.isupper():\n",
    "            s[\"UPPER_CASE\"]+=1\n",
    "        elif i.islower():\n",
    "            s[\"LOWER_CASE\"]+=1\n",
    "        else:\n",
    "            pass\n",
    "    print(\"Input String:\", a)\n",
    "    print(\"No. of UPPER_CASE characters:\",s[\"UPPER_CASE\"])\n",
    "    print(\"No. of LOWER_CASE characters:\",s[\"LOWER_CASE\"])\n",
    "    \n",
    "string('The quick Brow Fox')"
   ]
  },
  {
   "cell_type": "code",
   "execution_count": null,
   "id": "776e2d3e",
   "metadata": {},
   "outputs": [],
   "source": []
  },
  {
   "cell_type": "code",
   "execution_count": null,
   "id": "e62e06f0",
   "metadata": {},
   "outputs": [],
   "source": []
  },
  {
   "cell_type": "code",
   "execution_count": null,
   "id": "776ceb25",
   "metadata": {},
   "outputs": [],
   "source": []
  }
 ],
 "metadata": {
  "kernelspec": {
   "display_name": "Python 3 (ipykernel)",
   "language": "python",
   "name": "python3"
  },
  "language_info": {
   "codemirror_mode": {
    "name": "ipython",
    "version": 3
   },
   "file_extension": ".py",
   "mimetype": "text/x-python",
   "name": "python",
   "nbconvert_exporter": "python",
   "pygments_lexer": "ipython3",
   "version": "3.9.13"
  }
 },
 "nbformat": 4,
 "nbformat_minor": 5
}
